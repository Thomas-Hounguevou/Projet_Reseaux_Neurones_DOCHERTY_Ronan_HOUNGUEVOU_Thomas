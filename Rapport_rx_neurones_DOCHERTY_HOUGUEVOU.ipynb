{
 "cells": [
  {
   "cell_type": "markdown",
   "metadata": {},
   "source": [
    "## DOCHERTY Ronan et HOUNGUEVOU Thomas\n",
    "## Rapport réseaux de neurones\n",
    "### Sujet: Génération de synopsis d'anime\n",
    "Réseau utilisé: **Transformer**  \n",
    "[Dataset](https://www.kaggle.com/datasets/marlesson/myanimelist-dataset-animes-profiles-reviews/data)"
   ]
  },
  {
   "cell_type": "code",
   "execution_count": 18,
   "metadata": {},
   "outputs": [
    {
     "name": "stdout",
     "output_type": "stream",
     "text": [
      "0        Following their participation at the Inter-Hig...\n",
      "1        Music accompanies the path of the human metron...\n",
      "2        The Abyss—a gaping chasm stretching down into ...\n",
      "3        \"In order for something to be obtained, someth...\n",
      "4        After helping revive the legendary vampire Kis...\n",
      "                               ...                        \n",
      "19306    Cocona is an average middle schooler living wi...\n",
      "19307    While visiting the National Library, junior-hi...\n",
      "19308    Years ago, all of the ghosts in a haunted scho...\n",
      "19309    Inuyasha and company have finally destroyed Na...\n",
      "19310    The year is Universal Century 0093. Char Aznab...\n",
      "Name: synopsis, Length: 19311, dtype: object\n"
     ]
    }
   ],
   "source": [
    "import pandas as pd\n",
    "\n",
    "# Chargement des données depuis un fichier CSV (ou tout autre format de fichier)\n",
    "data = pd.read_csv('animes.csv')\n",
    "\n",
    "data = data[['title', 'synopsis','genre','score']]\n",
    "\n",
    "# Affichage des premières lignes pour visualiser la structure des données\n",
    "print(data.head())"
   ]
  },
  {
   "cell_type": "code",
   "execution_count": 11,
   "metadata": {},
   "outputs": [
    {
     "name": "stdout",
     "output_type": "stream",
     "text": [
      "Taille de l'ensemble d'entraînement : 15448\n",
      "Taille de l'ensemble de test : 3863\n"
     ]
    }
   ],
   "source": [
    "from sklearn.model_selection import train_test_split\n",
    "\n",
    "# Séparation des données en ensembles d'entraînement et de test (par exemple, 80% pour l'entraînement et 20% pour le test)\n",
    "train_data, test_data = train_test_split(data, test_size=0.2, random_state=42)\n",
    "\n",
    "# Affichage de la taille des ensembles d'entraînement et de test\n",
    "print(\"Taille de l'ensemble d'entraînement :\", len(train_data))\n",
    "print(\"Taille de l'ensemble de test :\", len(test_data))"
   ]
  },
  {
   "cell_type": "code",
   "execution_count": null,
   "metadata": {},
   "outputs": [],
   "source": [
    "from tokenizers import Tokenizer, models, pre_tokenizers, decoders, trainers\n",
    "\n",
    "synopsis_list = train_data['synopsis'].astype(str).tolist()  # Assurez-vous que les données sont bien de type str\n",
    "\n",
    "# Initialisation du tokenizer\n",
    "tokenizer = Tokenizer(models.BPE())\n",
    "\n",
    "# Configuration du trainer\n",
    "trainer = trainers.BpeTrainer(vocab_size=10000, special_tokens=['[PAD]', '[UNK]', '[CLS]', '[SEP]', '[MASK]'])\n",
    "\n",
    "# Entraînement du tokenizer sur les synopsis nettoyés\n",
    "tokenizer.train_from_iterator(synopsis_list, trainer=trainer)"
   ]
  },
  {
   "cell_type": "code",
   "execution_count": 24,
   "metadata": {},
   "outputs": [],
   "source": [
    "import torch\n",
    "import torch.nn as nn\n",
    "\n",
    "class TransformerModel(nn.Module):\n",
    "    def __init__(self, vocab_size, embedding_size, num_layers, num_heads, hidden_size):\n",
    "        super(TransformerModel, self).__init__()\n",
    "        self.embedding = nn.Embedding(vocab_size, embedding_size)\n",
    "        self.transformer = nn.Transformer(\n",
    "            d_model=embedding_size,\n",
    "            nhead=num_heads,\n",
    "            num_encoder_layers=num_layers,\n",
    "            num_decoder_layers=num_layers,\n",
    "            dim_feedforward=hidden_size\n",
    "        )\n",
    "        self.linear = nn.Linear(embedding_size, vocab_size)\n",
    "\n",
    "    def forward(self, src):\n",
    "        embedded = self.embedding(src)\n",
    "        output = self.transformer(embedded, embedded)\n",
    "        output = self.linear(output)\n",
    "        return output"
   ]
  }
 ],
 "metadata": {
  "kernelspec": {
   "display_name": "Python 3",
   "language": "python",
   "name": "python3"
  },
  "language_info": {
   "codemirror_mode": {
    "name": "ipython",
    "version": 3
   },
   "file_extension": ".py",
   "mimetype": "text/x-python",
   "name": "python",
   "nbconvert_exporter": "python",
   "pygments_lexer": "ipython3",
   "version": "3.10.12"
  }
 },
 "nbformat": 4,
 "nbformat_minor": 2
}
